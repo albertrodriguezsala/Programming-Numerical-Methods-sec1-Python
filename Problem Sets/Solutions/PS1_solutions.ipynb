{
 "cells": [
  {
   "cell_type": "markdown",
   "id": "0be7f47d",
   "metadata": {},
   "source": [
    "# Problem Set 1: Solutions\n",
    "\n",
    "### Albert Rodriguez Sala\n",
    "\n",
    "\n",
    "### Exercise 1: Lists and indexing (20 points)\n"
   ]
  },
  {
   "cell_type": "markdown",
   "id": "94b213a9",
   "metadata": {},
   "source": [
    "### a. "
   ]
  },
  {
   "cell_type": "code",
   "execution_count": 12,
   "id": "88ae145c",
   "metadata": {},
   "outputs": [
    {
     "name": "stdout",
     "output_type": "stream",
     "text": [
      "[2, 5, 6]\n",
      "[2, 2]\n"
     ]
    }
   ],
   "source": [
    "import numpy as np\n",
    "import matplotlib.pyplot as plt\n",
    "\n",
    "# given list \n",
    "l1 = [2, 5, 6, 4, 5 ,9, 3, 2, 2]\n",
    "\n",
    "# Extract the first 3 elements together. Remember that the first element in python is indexed by 0.\n",
    "print(l1[0:3])\n",
    "\n",
    "# extract the last 2 members together\n",
    "print(l1[-2:])"
   ]
  },
  {
   "cell_type": "markdown",
   "id": "18402eab",
   "metadata": {},
   "source": [
    "### b."
   ]
  },
  {
   "cell_type": "code",
   "execution_count": 8,
   "id": "b7959321",
   "metadata": {},
   "outputs": [
    {
     "name": "stdout",
     "output_type": "stream",
     "text": [
      "[2, 5, 4, 4, 5, 9, 7, 2, 2]\n"
     ]
    }
   ],
   "source": [
    "# replace the 3th and 7th elements for 4 and 7. and print the new l1\n",
    "l1[2] = 4\n",
    "l1[6] = 7\n",
    "print(l1)"
   ]
  },
  {
   "cell_type": "markdown",
   "id": "b6fa7bd2",
   "metadata": {},
   "source": [
    "### c. "
   ]
  },
  {
   "cell_type": "code",
   "execution_count": 9,
   "id": "344f303c",
   "metadata": {},
   "outputs": [
    {
     "name": "stdout",
     "output_type": "stream",
     "text": [
      "[2, 5, 4, 4, 5, 8, 7, 2, 2]\n"
     ]
    }
   ],
   "source": [
    "# replace the number 9 for 8 using list.index()\n",
    "l1[l1.index(9)] = 8\n",
    "print(l1)"
   ]
  },
  {
   "cell_type": "markdown",
   "id": "2b0a564d",
   "metadata": {},
   "source": [
    "### d"
   ]
  },
  {
   "cell_type": "code",
   "execution_count": 13,
   "id": "6066fb75",
   "metadata": {},
   "outputs": [
    {
     "name": "stdout",
     "output_type": "stream",
     "text": [
      "[2, 5, 6, 4, 5, 8, 3, 2, 2]\n"
     ]
    }
   ],
   "source": [
    "l1 = [2, 5, 6, 4, 5 ,9, 3, 2, 2]\n",
    "l1[np.argmax(l1)] = 8\n",
    "print(l1)"
   ]
  },
  {
   "cell_type": "markdown",
   "id": "1e2fa952",
   "metadata": {},
   "source": [
    "## Exercise 2: Arrays and matrix operations"
   ]
  },
  {
   "cell_type": "markdown",
   "id": "69ad2b6d",
   "metadata": {},
   "source": [
    "### a."
   ]
  },
  {
   "cell_type": "code",
   "execution_count": 15,
   "id": "e6394587",
   "metadata": {},
   "outputs": [
    {
     "name": "stdout",
     "output_type": "stream",
     "text": [
      "[[2 5 6]\n",
      " [4 5 9]\n",
      " [3 2 2]]\n"
     ]
    }
   ],
   "source": [
    "l1 = [2, 5, 6, 4, 5 ,9, 3, 2, 2]\n",
    "# using the original l1: Convert the list into a 3X3 matrix (2-d array). \n",
    "A = np.array(l1)\n",
    "A = A.reshape((3,3))\n",
    "print(A)"
   ]
  },
  {
   "cell_type": "markdown",
   "id": "3d952a3b",
   "metadata": {},
   "source": [
    "### b."
   ]
  },
  {
   "cell_type": "code",
   "execution_count": 16,
   "id": "5983fe30",
   "metadata": {},
   "outputs": [
    {
     "name": "stdout",
     "output_type": "stream",
     "text": [
      "9\n",
      "5\n"
     ]
    }
   ],
   "source": [
    "a_max = np.max(A)\n",
    "ia_max = np.argmax(A)\n",
    "print(a_max)\n",
    "print(ia_max)"
   ]
  },
  {
   "cell_type": "markdown",
   "id": "bd382642",
   "metadata": {},
   "source": [
    "### c."
   ]
  },
  {
   "cell_type": "code",
   "execution_count": 17,
   "id": "ef79623e",
   "metadata": {},
   "outputs": [
    {
     "data": {
      "text/plain": [
       "array([[2, 4, 3],\n",
       "       [5, 5, 2],\n",
       "       [6, 9, 2]])"
      ]
     },
     "execution_count": 17,
     "metadata": {},
     "output_type": "execute_result"
    }
   ],
   "source": [
    "# Transpose the matrix\n",
    "A.T"
   ]
  },
  {
   "cell_type": "markdown",
   "id": "4e2b50fa",
   "metadata": {},
   "source": [
    "### d."
   ]
  },
  {
   "cell_type": "code",
   "execution_count": 18,
   "id": "50c87bb2",
   "metadata": {},
   "outputs": [
    {
     "name": "stdout",
     "output_type": "stream",
     "text": [
      "[[ 65  87  28]\n",
      " [ 87 122  40]\n",
      " [ 28  40  17]]\n",
      "[[ 4 25 36]\n",
      " [16 25 81]\n",
      " [ 9  4  4]]\n"
     ]
    }
   ],
   "source": [
    "#Square matrix. Raise to the power of 2 each element\n",
    "A_sq =A@A.T  \n",
    "A_at2 = A**2\n",
    "\n",
    "print(A_sq)\n",
    "print(A_at2)\n"
   ]
  },
  {
   "cell_type": "markdown",
   "id": "5afbb5f2",
   "metadata": {},
   "source": [
    "### e. "
   ]
  },
  {
   "cell_type": "code",
   "execution_count": 19,
   "id": "92350e56",
   "metadata": {},
   "outputs": [
    {
     "data": {
      "text/plain": [
       "array([11.93968476+0.j        , -1.46984238+0.96874799j,\n",
       "       -1.46984238-0.96874799j])"
      ]
     },
     "execution_count": 19,
     "metadata": {},
     "output_type": "execute_result"
    }
   ],
   "source": [
    "# compute eigenvalues\n",
    "np.linalg.eigvals(A)"
   ]
  },
  {
   "cell_type": "markdown",
   "id": "0cb5e616",
   "metadata": {},
   "source": [
    "### f."
   ]
  },
  {
   "cell_type": "code",
   "execution_count": 20,
   "id": "ceed0835",
   "metadata": {},
   "outputs": [
    {
     "name": "stdout",
     "output_type": "stream",
     "text": [
      "[[0. 0. 0.]\n",
      " [0. 0. 0.]\n",
      " [0. 0. 0.]]\n",
      "[[2. 5. 6.]\n",
      " [4. 5. 9.]\n",
      " [3. 2. 2.]]\n",
      "[[13. 13. 13.]\n",
      " [18. 18. 18.]\n",
      " [ 7.  7.  7.]]\n"
     ]
    }
   ],
   "source": [
    "print(A@np.zeros((3,3)))\n",
    "print(A@np.eye(3))\n",
    "print(A@np.ones((3,3)))\n"
   ]
  },
  {
   "cell_type": "markdown",
   "id": "8a1ab541",
   "metadata": {},
   "source": [
    "### g."
   ]
  },
  {
   "cell_type": "code",
   "execution_count": 21,
   "id": "d6a130e7",
   "metadata": {},
   "outputs": [
    {
     "name": "stdout",
     "output_type": "stream",
     "text": [
      "any other 3x3 matrix resulting from operation counts full grade\n",
      "[[ 57.375  72.     86.625]\n",
      " [ 77.625  97.875 118.125]\n",
      " [ 20.25   28.125  36.   ]]\n"
     ]
    }
   ],
   "source": [
    "# Any grid created here with size 9 counts as full grade\n",
    "grid = np.linspace(0,9,9)\n",
    "grid = np.linspace(0,9,9)\n",
    "\n",
    "# Convert the grid into a 3x3 matrix (2-d array)\n",
    "B = np.array(grid)\n",
    "B = B.reshape((3,3))\n",
    "\n",
    "# multiply matrix A and B\n",
    "C = A@B\n",
    "print('any other 3x3 matrix resulting from operation counts full grade')\n",
    "print(C)"
   ]
  },
  {
   "cell_type": "markdown",
   "id": "00369daa",
   "metadata": {},
   "source": [
    "## Exercise 3: a Simple For loop"
   ]
  },
  {
   "cell_type": "code",
   "execution_count": 23,
   "id": "1afc3ba2",
   "metadata": {},
   "outputs": [
    {
     "name": "stdout",
     "output_type": "stream",
     "text": [
      "the sum of 1 and 0 is 1\n",
      "the sum of 2 and 1 is 3\n",
      "the sum of 3 and 2 is 5\n",
      "the sum of 4 and 3 is 7\n",
      "the sum of 5 and 4 is 9\n",
      "the sum of 6 and 5 is 11\n",
      "the sum of 7 and 6 is 13\n",
      "the sum of 8 and 7 is 15\n",
      "the sum of 9 and 8 is 17\n",
      "the sum of 10 and 9 is 19\n"
     ]
    }
   ],
   "source": [
    "for i in range(0,10):\n",
    "    i+=1  # i = i+1\n",
    "    j=i-1\n",
    "    print('the sum of',i,'and',j,'is',i+j )"
   ]
  },
  {
   "cell_type": "markdown",
   "id": "69c648c8",
   "metadata": {},
   "source": [
    "## Exercise 4: Conditional statements and logical operators"
   ]
  },
  {
   "cell_type": "markdown",
   "id": "7e9cbfdc",
   "metadata": {},
   "source": [
    "### a."
   ]
  },
  {
   "cell_type": "code",
   "execution_count": 24,
   "id": "0e3fe8c3",
   "metadata": {},
   "outputs": [
    {
     "name": "stdout",
     "output_type": "stream",
     "text": [
      "[2, 4, 3, 2, 2]\n"
     ]
    }
   ],
   "source": [
    "# a. Create a list that contains the elements In the list l1 that are smaller than 5. \n",
    "l2 = []\n",
    "\n",
    "for x in l1:\n",
    "    if x < 5:\n",
    "        l2.append(x)\n",
    "    else:\n",
    "        continue\n",
    "print(l2)"
   ]
  },
  {
   "cell_type": "markdown",
   "id": "5aea0336",
   "metadata": {},
   "source": [
    "### b."
   ]
  },
  {
   "cell_type": "code",
   "execution_count": 25,
   "id": "2929bc82",
   "metadata": {},
   "outputs": [
    {
     "name": "stdout",
     "output_type": "stream",
     "text": [
      "[5, 6, 4, 5, 3]\n"
     ]
    }
   ],
   "source": [
    "l3 = []\n",
    "for x in l1:\n",
    "    if (x < 7) and (x>=3):\n",
    "        l3.append(x)\n",
    "    else:\n",
    "        continue\n",
    "print(l3)\n"
   ]
  },
  {
   "cell_type": "markdown",
   "id": "512b8e9d",
   "metadata": {},
   "source": [
    "### c."
   ]
  },
  {
   "cell_type": "code",
   "execution_count": 26,
   "id": "3453bac5",
   "metadata": {},
   "outputs": [
    {
     "name": "stdout",
     "output_type": "stream",
     "text": [
      " Is 5 an element in matrix A True\n"
     ]
    }
   ],
   "source": [
    "#  Check whether number 5 belong matrix A in 2.\n",
    "fiveinA = 5 in A\n",
    "print(' Is 5 an element in matrix A', fiveinA)"
   ]
  },
  {
   "cell_type": "markdown",
   "id": "ba6f4dbe",
   "metadata": {},
   "source": [
    "### d."
   ]
  },
  {
   "cell_type": "code",
   "execution_count": 27,
   "id": "2dec6c26",
   "metadata": {},
   "outputs": [
    {
     "name": "stdout",
     "output_type": "stream",
     "text": [
      "[[0 5 6]\n",
      " [4 5 9]\n",
      " [0 0 0]]\n"
     ]
    }
   ],
   "source": [
    "# Create a new matrix that is equal to Matrix in 2 but the numbers below 4 are replaced by zeros.\n",
    "A_tr = (A>=4)  # comparisons act element-wise in arrays.\n",
    "D= A*A_tr \n",
    "print(D)"
   ]
  },
  {
   "cell_type": "markdown",
   "id": "2f80f5c3",
   "metadata": {},
   "source": [
    "### e."
   ]
  },
  {
   "cell_type": "code",
   "execution_count": 29,
   "id": "c93dad81",
   "metadata": {},
   "outputs": [
    {
     "name": "stdout",
     "output_type": "stream",
     "text": [
      "Number of zeros= 4\n"
     ]
    }
   ],
   "source": [
    "count_0 = np.sum(D==0)\n",
    "print('Number of zeros=', count_0)"
   ]
  },
  {
   "cell_type": "markdown",
   "id": "425fe411",
   "metadata": {},
   "source": [
    "## Exercise 5: CES production function"
   ]
  },
  {
   "cell_type": "code",
   "execution_count": 31,
   "id": "dc21782d",
   "metadata": {},
   "outputs": [],
   "source": [
    "\n",
    "alpha = 0.33  ## capital share\n",
    "sigma = 1.5   ## constant elasticity of substitution\n",
    "A = 1.5       ## TFP\n",
    "\n",
    "k_grid = np.linspace(1e-5,10,11)\n"
   ]
  },
  {
   "cell_type": "markdown",
   "id": "33806c08",
   "metadata": {},
   "source": [
    "### a."
   ]
  },
  {
   "cell_type": "code",
   "execution_count": 32,
   "id": "67f4fbd5",
   "metadata": {},
   "outputs": [],
   "source": [
    "# a. Define function\n",
    "\n",
    "def ces_func(k,l,A=1.5,alpha=0.33,sigma=1.5):\n",
    "    ''' CES production function on K,L with constant elasticity of substitution sigma, sigma>0.\n",
    "     - INPUTS: k: capital production factor. l: labor production factor. (positional arguments)\n",
    "               A: TFP, alpha: capital's share(Cobb-Doug), sigma: Constant Elasticity Substition.\n",
    "             default values:                                            (keyword arguments)\n",
    "                 A=1.5, alpha=0.33, sigma=1.5.\n",
    "     - OUTPUT: y: output of the CES production function given K, and L.'''\n",
    "    \n",
    "    if sigma==1:\n",
    "        print('function takes Cobb-Douglas form')\n",
    "        y = A*k**(alpha)*l**(1-alpha)\n",
    "\n",
    "    else:\n",
    "        y = A*(alpha*k**((sigma-1)/sigma) +(1-alpha)*l**((sigma-1)/sigma) )**(sigma/(sigma-1))\n",
    "        \n",
    "    return y"
   ]
  },
  {
   "cell_type": "markdown",
   "id": "26eb5978",
   "metadata": {},
   "source": [
    "### b"
   ]
  },
  {
   "cell_type": "code",
   "execution_count": 33,
   "id": "6391c714",
   "metadata": {},
   "outputs": [
    {
     "name": "stdout",
     "output_type": "stream",
     "text": [
      "function takes Cobb-Douglas form\n"
     ]
    },
    {
     "data": {
      "image/png": "[encoded data removed]",
      "text/plain": [
       "<Figure size 432x288 with 1 Axes>"
      ]
     },
     "metadata": {
      "needs_background": "light"
     },
     "output_type": "display_data"
    }
   ],
   "source": [
    "# Cobb-Douglass function  compute the output for a grid of k of, and constant labor of l=3. \n",
    "# Make a graph of the output along the values of capital.\n",
    "y1_k = ces_func(k_grid,3,sigma=1)\n",
    "\n",
    "fig, ax = plt.subplots()\n",
    "ax.plot(k_grid, y1_k, linewidth=2.0)\n",
    "ax.set_xlabel('K')\n",
    "ax.set_ylabel('Y')\n",
    "ax.set_title('Cobb-douglass production function under a capital share of 0.33')\n",
    "plt.show()"
   ]
  },
  {
   "cell_type": "markdown",
   "id": "db57dcbf",
   "metadata": {},
   "source": [
    "### c"
   ]
  },
  {
   "cell_type": "code",
   "execution_count": 34,
   "id": "db4a774d",
   "metadata": {},
   "outputs": [
    {
     "name": "stdout",
     "output_type": "stream",
     "text": [
      "function takes Cobb-Douglas form\n",
      "function takes Cobb-Douglas form\n",
      "function takes Cobb-Douglas form\n"
     ]
    },
    {
     "data": {
      "image/png": "[encoded data removed]",
      "text/plain": [
       "<Figure size 432x288 with 1 Axes>"
      ]
     },
     "metadata": {
      "needs_background": "light"
     },
     "output_type": "display_data"
    }
   ],
   "source": [
    "#  Recompute the output for alpha= [0.25, 0.5, 0.75]. \n",
    "# Make a plot with the 3 production functions in the same graph.\n",
    "\n",
    "alphas = [0.25, 0.5, 0.75]\n",
    "\n",
    "y_alphas = []\n",
    "for alpha in alphas:\n",
    "    y = ces_func(k_grid,3,sigma=1, alpha=alpha)\n",
    "    y_alphas.append(y)\n",
    "\n",
    "\n",
    "fig, ax = plt.subplots()\n",
    "for i,alpha in enumerate(alphas):\n",
    "    ax.plot(k_grid, y_alphas[i], linewidth=2.0, label=r'$\\alpha=$'+str(alpha))\n",
    "ax.set_xlabel('K')\n",
    "ax.set_ylabel('Y')\n",
    "ax.legend()\n",
    "ax.set_title('Cobb-Douglass production function along alpha values')\n",
    "plt.show()"
   ]
  },
  {
   "cell_type": "markdown",
   "id": "6046d8b1",
   "metadata": {},
   "source": [
    "### d."
   ]
  },
  {
   "cell_type": "code",
   "execution_count": 35,
   "id": "c0ade461",
   "metadata": {},
   "outputs": [
    {
     "data": {
      "image/png": "[encoded data removed]",
      "text/plain": [
       "<Figure size 432x288 with 1 Axes>"
      ]
     },
     "metadata": {
      "needs_background": "light"
     },
     "output_type": "display_data"
    }
   ],
   "source": [
    "y2_k = ces_func(k_grid,3,sigma=0.33)\n",
    "\n",
    "fig, ax = plt.subplots()\n",
    "ax.plot(k_grid, y2_k, linewidth=2.0)\n",
    "ax.set_xlabel('K')\n",
    "ax.set_ylabel('Y')\n",
    "ax.set_title('CES production function: alpha=0.33, sigma=0.33')\n",
    "plt.show()\n"
   ]
  },
  {
   "cell_type": "markdown",
   "id": "003b346b",
   "metadata": {},
   "source": [
    "\n",
    "### e."
   ]
  },
  {
   "cell_type": "code",
   "execution_count": 36,
   "id": "4b1c625a",
   "metadata": {},
   "outputs": [
    {
     "name": "stdout",
     "output_type": "stream",
     "text": [
      "function takes Cobb-Douglas form\n"
     ]
    },
    {
     "data": {
      "image/png": "[encoded data removed]",
      "text/plain": [
       "<Figure size 432x288 with 1 Axes>"
      ]
     },
     "metadata": {
      "needs_background": "light"
     },
     "output_type": "display_data"
    }
   ],
   "source": [
    "#  Keeping alpha=0.33, L=3, plot output vs capital for sigma [0.25, 0.5, 1, 2, 4]\n",
    "\n",
    "sigmas = [0.25,0.5,1,2,4]\n",
    "y_sigmas = []\n",
    "for sigma in sigmas:\n",
    "    y = ces_func(k_grid,3, sigma=sigma)\n",
    "    y_sigmas.append(y)\n",
    "    \n",
    "\n",
    "fig, ax = plt.subplots()\n",
    "for i,sigma in enumerate(sigmas):\n",
    "    ax.plot(k_grid, y_sigmas[i], linewidth=2.0, label=r'$\\sigma=$'+str(sigma))\n",
    "ax.set_xlabel('K')\n",
    "ax.set_ylabel('Y')\n",
    "ax.legend()\n",
    "ax.set_title('CES production function along sigma values')\n",
    "plt.show()"
   ]
  },
  {
   "cell_type": "markdown",
   "id": "0639f8bc",
   "metadata": {},
   "source": [
    "### g.\n",
    "\n",
    "the CES production function is a very general production function. \n",
    "    when sigma=0 -> F takes a leontieff form, Inputs are perfectly complements.\n",
    "    when sigma=1 -> Cob-Douglass form, constant returns to scale.\n",
    "    when sigma= infty -> linear production function. Inputs are perfectly substitutable.\n",
    "\n",
    "We observe that when sigma is small (<1), then an additional of capital above 3 (L=3) contributes little to output (since K is constrained by L).\n",
    "The opposite occurs when sigma is large (>1).\n",
    "\n",
    "Roughly anything going in this direction should get full mark.\n"
   ]
  },
  {
   "cell_type": "code",
   "execution_count": null,
   "id": "28b83743",
   "metadata": {},
   "outputs": [],
   "source": []
  }
 ],
 "metadata": {
  "kernelspec": {
   "display_name": "Python 3",
   "language": "python",
   "name": "python3"
  },
  "language_info": {
   "codemirror_mode": {
    "name": "ipython",
    "version": 3
   },
   "file_extension": ".py",
   "mimetype": "text/x-python",
   "name": "python",
   "nbconvert_exporter": "python",
   "pygments_lexer": "ipython3",
   "version": "3.6.12"
  }
 },
 "nbformat": 4,
 "nbformat_minor": 5
}
